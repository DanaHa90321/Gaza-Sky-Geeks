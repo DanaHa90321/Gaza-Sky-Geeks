{
  "nbformat": 4,
  "nbformat_minor": 0,
  "metadata": {
    "colab": {
      "provenance": [],
      "authorship_tag": "ABX9TyPMuN0tm+2RI5MLAfrCw8Ad",
      "include_colab_link": true
    },
    "kernelspec": {
      "name": "python3",
      "display_name": "Python 3"
    },
    "language_info": {
      "name": "python"
    }
  },
  "cells": [
    {
      "cell_type": "markdown",
      "metadata": {
        "id": "view-in-github",
        "colab_type": "text"
      },
      "source": [
        "<a href=\"https://colab.research.google.com/github/DanaHa90321/Gaza-Sky-Geeks/blob/main/Real_estate_prediction.ipynb\" target=\"_parent\"><img src=\"https://colab.research.google.com/assets/colab-badge.svg\" alt=\"Open In Colab\"/></a>"
      ]
    },
    {
      "cell_type": "code",
      "execution_count": 5,
      "metadata": {
        "id": "-ORMz8EmDJlv",
        "colab": {
          "base_uri": "https://localhost:8080/",
          "height": 211
        },
        "outputId": "63e50733-6f80-46e5-f113-3335d1bde363"
      },
      "outputs": [
        {
          "output_type": "error",
          "ename": "NameError",
          "evalue": "name 'house' is not defined",
          "traceback": [
            "\u001b[0;31m---------------------------------------------------------------------------\u001b[0m",
            "\u001b[0;31mNameError\u001b[0m                                 Traceback (most recent call last)",
            "\u001b[0;32m<ipython-input-5-3af74e1cb7a0>\u001b[0m in \u001b[0;36m<cell line: 0>\u001b[0;34m()\u001b[0m\n\u001b[1;32m     13\u001b[0m \u001b[0;34m\u001b[0m\u001b[0m\n\u001b[1;32m     14\u001b[0m \u001b[0;31m# Rename columns for easier understanding\u001b[0m\u001b[0;34m\u001b[0m\u001b[0;34m\u001b[0m\u001b[0m\n\u001b[0;32m---> 15\u001b[0;31m house.columns= [\n\u001b[0m\u001b[1;32m     16\u001b[0m     \u001b[0;34m'No'\u001b[0m\u001b[0;34m,\u001b[0m \u001b[0;34m'Transaction_Date'\u001b[0m\u001b[0;34m,\u001b[0m \u001b[0;34m'House_Age'\u001b[0m\u001b[0;34m,\u001b[0m \u001b[0;34m'Distance_to_MRT'\u001b[0m\u001b[0;34m,\u001b[0m\u001b[0;34m\u001b[0m\u001b[0;34m\u001b[0m\u001b[0m\n\u001b[1;32m     17\u001b[0m     \u001b[0;34m'Number_of_Stores'\u001b[0m\u001b[0;34m,\u001b[0m \u001b[0;34m'Latitude'\u001b[0m\u001b[0;34m,\u001b[0m \u001b[0;34m'Longitude'\u001b[0m\u001b[0;34m,\u001b[0m \u001b[0;34m'House_Price_per_Unit_Area'\u001b[0m\u001b[0;34m\u001b[0m\u001b[0;34m\u001b[0m\u001b[0m\n",
            "\u001b[0;31mNameError\u001b[0m: name 'house' is not defined"
          ]
        }
      ],
      "source": [
        "import pandas as pd\n",
        "import numpy as np\n",
        "import seaborn as sns\n",
        "import matplotlib.pyplot as plt\n",
        "%matplotlib inline\n",
        "import matplotlib\n",
        "import warnings\n",
        "warnings.filterwarnings('ignore')\n",
        "matplotlib.rcParams[\"figure.figsize\"] = (20,10)\n",
        "\n",
        "df1 = pd.read_csv('/content/Real estate.csv')\n",
        "\n",
        "\n",
        "# Rename columns for easier understanding\n",
        "house.columns= [\n",
        "    'No', 'Transaction_Date', 'House_Age', 'Distance_to_MRT',\n",
        "    'Number_of_Stores', 'Latitude', 'Longitude', 'House_Price_per_Unit_Area'\n",
        "]\n",
        "\n",
        "# Display basic information about the dataset\n",
        "print(data.info())\n",
        "print(data.describe())\n",
        "\n",
        "# Drop unnecessary columns if needed (e.g., 'No')\n",
        "data = data.drop('No', axis=1)\n",
        "\n",
        "# Visualize the distribution of house prices\n",
        "plt.figure(figsize=(8, 6))\n",
        "sns.histplot(data['House_Price_per_Unit_Area'], kde=True, color='blue')\n",
        "plt.title('Distribution of House Prices per Unit Area')\n",
        "plt.xlabel('House Price per Unit Area')\n",
        "plt.ylabel('Frequency')\n",
        "plt.show()\n",
        "\n",
        "# Correlation heatmap\n",
        "plt.figure(figsize=(10, 8))\n",
        "corr_matrix = data.corr()\n",
        "sns.heatmap(corr_matrix, annot=True, cmap='coolwarm', fmt='.2f')\n",
        "plt.title('Correlation Heatmap')\n",
        "plt.show()\n",
        "\n",
        "# Pairplot for feature relationships\n",
        "sns.pairplot(data, diag_kind='kde')\n",
        "plt.show()\n",
        "\n",
        "# Split the dataset into features (X) and target (y)\n",
        "X = data.drop('House_Price_per_Unit_Area', axis=1)\n",
        "y = data['House_Price_per_Unit_Area']\n",
        "\n",
        "# Split into training and testing sets\n",
        "X_train, X_test, y_train, y_test = train_test_split(X, y, test_size=0.2, random_state=42)\n",
        "\n",
        "# Build a Linear Regression model\n",
        "model = LinearRegression()\n",
        "model.fit(X_train, y_train)\n",
        "\n",
        "# Predictions\n",
        "y_pred = model.predict(X_test)\n",
        "\n",
        "# Evaluate the model\n",
        "mae = mean_absolute_error(y_test, y_pred)\n",
        "mse = mean_squared_error(y_test, y_pred)\n",
        "rmse = np.sqrt(mse)\n",
        "r2 = r2_score(y_test, y_pred)\n",
        "\n",
        "print(f\"Mean Absolute Error (MAE): {mae:.2f}\")\n",
        "print(f\"Mean Squared Error (MSE): {mse:.2f}\")\n",
        "print(f\"Root Mean Squared Error (RMSE): {rmse:.2f}\")\n",
        "print(f\"R-squared (R2): {r2:.2f}\")\n",
        "\n",
        "# Plot actual vs predicted values\n",
        "plt.figure(figsize=(8, 6))\n",
        "plt.scatter(y_test, y_pred, alpha=0.7, color='green')\n",
        "plt.title('Actual vs Predicted Prices')\n",
        "plt.xlabel('Actual Prices')\n",
        "plt.ylabel('Predicted Prices')\n",
        "plt.plot([y.min(), y.max()], [y.min(), y.max()], color='red', linestyle='--')\n",
        "plt.show()\n",
        "\n",
        "# Feature importance visualization (for linear regression coefficients)\n",
        "coefficients = pd.DataFrame({'Feature': X.columns, 'Coefficient': model.coef_})\n",
        "coefficients = coefficients.sort_values(by='Coefficient', ascending=False)\n",
        "\n",
        "plt.figure(figsize=(10, 6))\n",
        "sns.barplot(x='Coefficient', y='Feature', data=coefficients, palette='viridis')\n",
        "plt.title('Feature Importance (Linear Regression Coefficients)')\n",
        "plt.show()\n",
        "\n"
      ]
    }
  ]
}